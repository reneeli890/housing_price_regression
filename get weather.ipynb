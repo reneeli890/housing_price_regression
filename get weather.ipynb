{
 "cells": [
  {
   "cell_type": "code",
   "execution_count": 8,
   "id": "d112baae",
   "metadata": {},
   "outputs": [
    {
     "name": "stdout",
     "output_type": "stream",
     "text": [
      "enter a city:Paris\n",
      "{'cod': 401,\n",
      " 'message': 'Invalid API key. Please see '\n",
      "            'https://openweathermap.org/faq#error401 for more info.'}\n"
     ]
    }
   ],
   "source": [
    "# Get weather\n",
    "\n",
    "import requests\n",
    "from pprint import pprint\n",
    "\n",
    "API_key = '0f98a9e7087ded4d5ed5dd5ac527375f'\n",
    "\n",
    "city = input('enter a city:') # have the user input a city, via variable \"city\"\n",
    "\n",
    "base_url = \"https://api.openweathermap.org/data/2.5/weather?appid=\"+API_key+\"&q=\"+city # concatenate url + parameter app id + the API key + the query + city inputted by user\n",
    "\n",
    "weather_data = requests.get(base_url).json() # the response from the base_url will be in json format, store it via \"weather_data\"\n",
    "\n",
    "pprint(weather_data) # pretty print the json response to make it readable\n",
    "\n",
    "\n",
    "\n",
    "\n",
    "\n",
    "\n",
    "\n"
   ]
  }
 ],
 "metadata": {
  "kernelspec": {
   "display_name": "Python 3 (ipykernel)",
   "language": "python",
   "name": "python3"
  },
  "language_info": {
   "codemirror_mode": {
    "name": "ipython",
    "version": 3
   },
   "file_extension": ".py",
   "mimetype": "text/x-python",
   "name": "python",
   "nbconvert_exporter": "python",
   "pygments_lexer": "ipython3",
   "version": "3.8.6"
  }
 },
 "nbformat": 4,
 "nbformat_minor": 5
}
