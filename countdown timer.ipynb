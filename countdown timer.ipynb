{
 "cells": [
  {
   "cell_type": "code",
   "execution_count": null,
   "id": "68046bd5",
   "metadata": {},
   "outputs": [],
   "source": [
    "# Create a countdown timer\n",
    "\n",
    "import time # import time library\n",
    "\n",
    "def countdown(t) : # take in parameter t, the # seconds inputted by user\n",
    "    while t: \n",
    "        mins, secs = divmod(t, 60) # divmod performs Euclidean division, divides t by 60 to give integer value minute and integer value seconds\n",
    "        timer = '{:02d}:{:02d}'.format(mins,secs) # feed it a format\n",
    "        print(timer, end=\"\\r\") #  \\r is a carriage return, returns the cursor to the beginning of the same line\n",
    "        time.sleep(1) # suspends execution for the given number of seconds\n",
    "        t -= 1 # the number increment it counts down by\n",
    "    print('Timer Completed')\n",
    "\n",
    "t = input('Enter the time in seconds:')\n",
    "    \n",
    "countdown(int(t))\n",
    "    \n",
    "        "
   ]
  }
 ],
 "metadata": {
  "kernelspec": {
   "display_name": "Python 3 (ipykernel)",
   "language": "python",
   "name": "python3"
  },
  "language_info": {
   "codemirror_mode": {
    "name": "ipython",
    "version": 3
   },
   "file_extension": ".py",
   "mimetype": "text/x-python",
   "name": "python",
   "nbconvert_exporter": "python",
   "pygments_lexer": "ipython3",
   "version": "3.8.6"
  }
 },
 "nbformat": 4,
 "nbformat_minor": 5
}
